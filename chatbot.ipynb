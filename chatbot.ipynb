{
  "nbformat": 4,
  "nbformat_minor": 0,
  "metadata": {
    "colab": {
      "provenance": [],
      "authorship_tag": "ABX9TyM+hv0TEn52DOdvqR6hSVuh",
      "include_colab_link": true
    },
    "kernelspec": {
      "name": "python3",
      "display_name": "Python 3"
    },
    "language_info": {
      "name": "python"
    }
  },
  "cells": [
    {
      "cell_type": "markdown",
      "metadata": {
        "id": "view-in-github",
        "colab_type": "text"
      },
      "source": [
        "<a href=\"https://colab.research.google.com/github/ZayedRodina/translator/blob/main/chatbot.ipynb\" target=\"_parent\"><img src=\"https://colab.research.google.com/assets/colab-badge.svg\" alt=\"Open In Colab\"/></a>"
      ]
    },
    {
      "cell_type": "code",
      "execution_count": null,
      "metadata": {
        "colab": {
          "base_uri": "https://localhost:8080/"
        },
        "id": "8odPcLOyUrT_",
        "outputId": "c0368a09-5420-429f-8710-fa90169f0a23"
      },
      "outputs": [
        {
          "output_type": "stream",
          "name": "stdout",
          "text": [
            "\n",
            "Hello! I'm your friendly chatbot. I'm here to chat and answer questions you might have. \n",
            "\n",
            "Here's what I can do:\n",
            "* Provide interesting facts\n",
            "* Engage in casual conversation\n",
            "* Answer general queries\n",
            "\n",
            "To end the conversation, type 'quit' or 'goodbye'.\n",
            "\n",
            ">hi\n",
            "Hello! How's your day going? \n",
            ">what is your name?\n",
            "I'm a Anisa here to help you. What's your name?\n"
          ]
        }
      ],
      "source": [
        "import nltk\n",
        "from nltk.chat.util import Chat, reflections\n",
        "\n",
        "welcome_message = \"\"\"\n",
        "Hello! I'm your friendly chatbot. I'm here to chat and answer questions you might have.\n",
        "\n",
        "Here's what I can do:\n",
        "* Provide interesting facts\n",
        "* Engage in casual conversation\n",
        "* Answer general queries\n",
        "\n",
        "To end the conversation, type 'quit' or 'goodbye'.\n",
        "\"\"\"\n",
        "\n",
        "pairs = [\n",
        "    [\n",
        "        r\"my name is (.*)\",\n",
        "        [\"Hi %1! It's great to meet you. How can I assist you today?\"]\n",
        "    ],\n",
        "    [\n",
        "        r\"hi|hello|hey\",\n",
        "        [\"Hello! How's your day going? \", \"Hi there! How can I help you?\"]\n",
        "    ],\n",
        "    [\n",
        "        r\"what is your name?\",\n",
        "        [\"I'm a Anisa here to help you. What's your name?\"]\n",
        "    ],\n",
        "    [\n",
        "        r\"who created you?\",\n",
        "        [\"I was designed by Rodina.\"]\n",
        "    ],\n",
        "    [\n",
        "        r\"how are you?\",\n",
        "        [\"I'm functioning smoothly, thanks for asking! How can I be of service?\"]\n",
        "    ],\n",
        "    [\n",
        "        r\"sorry (.*)\",\n",
        "        [\"No problem at all! How else can I assist you?\"]\n",
        "    ],\n",
        "    [\n",
        "        r\"quit|goodbye\",\n",
        "        [\"Goodbye! It was a pleasure chatting with you. \", \"Take care and have a great day!\"]\n",
        "    ],\n",
        "    [\n",
        "        r\"(.*) weather (.*)\",\n",
        "        [\"I don't have real-time weather updates, but I can recommend checking out weather websites or apps.\"]\n",
        "    ],\n",
        "    [\n",
        "        r\"(.*) (location|city) ?\",\n",
        "        [\"I exist in the digital realm, but I can help you find information about any city you’re interested in.\"]\n",
        "    ],\n",
        "    [\n",
        "        r\"(.*) (help|support) (.*)\",\n",
        "        [\"I'm here to provide support with information and answer any questions you may have. What do you need help with?\"]\n",
        "    ],\n",
        "    [\n",
        "        r\"what are your hobbies?\",\n",
        "        [\"I enjoy learning new things and helping people. What about you?\"]\n",
        "    ],\n",
        "    [\n",
        "        r\"what do you think about (.*)\",\n",
        "        [\"I don't have personal opinions, but I can give you facts and information about %1.\"]\n",
        "    ],\n",
        "    [\n",
        "        r\"tell me a joke\",\n",
        "        [\"Why don’t scientists trust atoms? Because they make up everything! Want to hear another one?\"]\n",
        "    ],\n",
        "    [\n",
        "        r\"explain artificial intelligence\",\n",
        "        [\"Artificial intelligence (AI) refers to machines or software that can perform tasks typically requiring human intelligence, such as learning, problem-solving, and decision-making.\"]\n",
        "    ]\n",
        "]\n",
        "\n",
        "reflections = {\n",
        "    \"i am\": \"you are\",\n",
        "    \"i'm\": \"you are\",\n",
        "    \"we are\": \"you are\",\n",
        "    \"are we\": \"are you\",\n",
        "    \"was I\": \"were you\",\n",
        "    \"I was\": \"were you\",\n",
        "    \"I have\": \"you have\",\n",
        "    \"do I have\": \"do you have\",\n",
        "    \"because\": \"so\",\n",
        "    \"why\": \"because\",\n",
        "    \"could you\": \"will you\",\n",
        "    \"will you\": \"can I\",\n",
        "    \"can I\": \"could you\",\n",
        "    \"you're welcome\": \"you're welcome\",\n",
        "    \"my pleasure\": \"you're welcome\",\n",
        "    \"everything\": \"almost everything\",\n",
        "}\n",
        "\n",
        "def basic_chatbot():\n",
        "    print(welcome_message)\n",
        "    chat = Chat(pairs, reflections)\n",
        "    chat.converse()\n",
        "\n",
        "if __name__ == \"__main__\":\n",
        "    basic_chatbot()\n"
      ]
    }
  ]
}